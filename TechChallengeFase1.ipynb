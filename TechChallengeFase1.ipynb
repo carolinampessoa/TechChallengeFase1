{
  "nbformat": 4,
  "nbformat_minor": 0,
  "metadata": {
    "colab": {
      "provenance": [],
      "authorship_tag": "ABX9TyP0DuGlfFbwIYKY3bJQtpEv",
      "include_colab_link": true
    },
    "kernelspec": {
      "name": "python3",
      "display_name": "Python 3"
    },
    "language_info": {
      "name": "python"
    }
  },
  "cells": [
    {
      "cell_type": "markdown",
      "metadata": {
        "id": "view-in-github",
        "colab_type": "text"
      },
      "source": [
        "<a href=\"https://colab.research.google.com/github/carolinampessoa/TechChallengeFase1/blob/main/TechChallengeFase1.ipynb\" target=\"_parent\"><img src=\"https://colab.research.google.com/assets/colab-badge.svg\" alt=\"Open In Colab\"/></a>"
      ]
    },
    {
      "cell_type": "markdown",
      "source": [
        "Importando bibliotecas\n",
        "\n"
      ],
      "metadata": {
        "id": "V31k57x3RjZg"
      }
    },
    {
      "cell_type": "code",
      "source": [
        "# Bibliotecas para leitura e carregamento de dataset do Kaggle\n",
        "import kagglehub\n",
        "import pandas as pd\n",
        "import os\n",
        "# Bibliotecas para visualização de dados\n",
        "import seaborn as sns\n",
        "import matplotlib.pyplot as plt\n",
        "# Bibliotecas para ajuste de dados\n",
        "from sklearn.preprocessing import StandardScaler\n",
        "from sklearn.preprocessing import OneHotEncoder, StandardScaler\n",
        "from sklearn.compose import ColumnTransformer\n",
        "# Bibliotecas para treinamento de modelos\n",
        "from sklearn.model_selection import train_test_split\n",
        "from sklearn.linear_model import LinearRegression\n",
        "from sklearn.ensemble import RandomForestRegressor\n",
        "from sklearn.tree import DecisionTreeRegressor\n",
        "from sklearn.neighbors import KNeighborsRegressor\n",
        "from xgboost import XGBRegressor\n",
        "from sklearn.model_selection import GridSearchCV\n",
        "# Bibliotecas para validação de modelos\n",
        "from sklearn.metrics import mean_squared_error, r2_score, mean_absolute_error\n",
        "import numpy as np\n",
        "import statsmodels.api as sm"
      ],
      "metadata": {
        "id": "-i_ymd6yRszD"
      },
      "execution_count": 2,
      "outputs": []
    },
    {
      "cell_type": "markdown",
      "source": [
        "**Passo 1: Exploração de dados**\n",
        "\n",
        "Baixando a base de dados e explorando suas características\n"
      ],
      "metadata": {
        "id": "TeUOb53jSHoG"
      }
    },
    {
      "cell_type": "code",
      "source": [
        "path = kagglehub.dataset_download(\"mirichoi0218/insurance\");\n",
        "df = pd.read_csv(os.path.join(path, \"insurance.csv\"));\n",
        "\n",
        "# Exibindo as primeiras linhas e formato do DataFrame\n",
        "print(df.head());\n",
        "print(\"Formato do dataset (linhas, colunas):\", df.shape);"
      ],
      "metadata": {
        "id": "PyM7F3CVSZPd",
        "outputId": "16035d7e-8964-4c1f-807d-aec6a0823058",
        "colab": {
          "base_uri": "https://localhost:8080/"
        }
      },
      "execution_count": 6,
      "outputs": [
        {
          "output_type": "stream",
          "name": "stdout",
          "text": [
            "   age     sex     bmi  children smoker     region      charges\n",
            "0   19  female  27.900         0    yes  southwest  16884.92400\n",
            "1   18    male  33.770         1     no  southeast   1725.55230\n",
            "2   28    male  33.000         3     no  southeast   4449.46200\n",
            "3   33    male  22.705         0     no  northwest  21984.47061\n",
            "4   32    male  28.880         0     no  northwest   3866.85520\n",
            "\n",
            "Formato do dataset (linhas, colunas): (1338, 7)\n"
          ]
        }
      ]
    },
    {
      "cell_type": "markdown",
      "source": [
        "Base de dados de composta por 1338 registros e 7 colunas, sendo 6 variáveis de entrada (idade, genero, IMC, número de filhos, fumante e região) e uma váriavel de saída (custos - variável target)."
      ],
      "metadata": {
        "id": "65zgThf7U4Ke"
      }
    },
    {
      "cell_type": "code",
      "source": [
        "# Características do DataFrame\n",
        "print(\"\\nInformações do DataFrame:\");\n",
        "print(df.info());  # Tipos de dados: categóricas(sex, smoker, region), inteiro (age, children) e float (BMI, charges)."
      ],
      "metadata": {
        "id": "fmViGb6zR3X4",
        "outputId": "af8d4e60-d2ce-4a67-fcd8-ce318fc9e187",
        "colab": {
          "base_uri": "https://localhost:8080/"
        }
      },
      "execution_count": 7,
      "outputs": [
        {
          "output_type": "stream",
          "name": "stdout",
          "text": [
            "\n",
            "Informações do DataFrame:\n",
            "<class 'pandas.core.frame.DataFrame'>\n",
            "RangeIndex: 1338 entries, 0 to 1337\n",
            "Data columns (total 7 columns):\n",
            " #   Column    Non-Null Count  Dtype  \n",
            "---  ------    --------------  -----  \n",
            " 0   age       1338 non-null   int64  \n",
            " 1   sex       1338 non-null   object \n",
            " 2   bmi       1338 non-null   float64\n",
            " 3   children  1338 non-null   int64  \n",
            " 4   smoker    1338 non-null   object \n",
            " 5   region    1338 non-null   object \n",
            " 6   charges   1338 non-null   float64\n",
            "dtypes: float64(2), int64(2), object(3)\n",
            "memory usage: 73.3+ KB\n",
            "None\n"
          ]
        }
      ]
    },
    {
      "cell_type": "markdown",
      "source": [
        " Tipos de dados presentes no dataset: categóricas (sex, smoker, region), inteiros (age, children) e float (BMI, charges).\n",
        "\n",
        " Não existem valores nulos na base de dados."
      ],
      "metadata": {
        "id": "4dK7WpSqR6By"
      }
    },
    {
      "cell_type": "code",
      "source": [],
      "metadata": {
        "id": "sRpngr6iR2qz"
      },
      "execution_count": null,
      "outputs": []
    },
    {
      "cell_type": "code",
      "execution_count": null,
      "metadata": {
        "colab": {
          "base_uri": "https://localhost:8080/"
        },
        "id": "pVfgKcqqQ1q_",
        "outputId": "9d0ec8f7-afd1-4662-86d2-edd41d1e137f"
      },
      "outputs": [
        {
          "output_type": "stream",
          "name": "stdout",
          "text": [
            "Deseja fazer a análise exploratória dos dados? (s/n)\n",
            "n\n",
            "Fitting 3 folds for each of 72 candidates, totalling 216 fits\n",
            "\n",
            "Resultados dos Modelos (conjunto de treino):\n",
            "              Modelo    R²     RMSE      MAE  MAPE (%)\n",
            "0  Linear Regression  0.51  8391.12  4270.77     27.02\n",
            "1      Decision Tree  1.00   554.21    29.57      0.50\n",
            "2      Random Forest  0.96  2396.26   987.11      7.62\n",
            "3                KNN  0.80  5357.56  2813.33     21.14\n",
            "4            XGBoost  0.88  4181.86  1917.21     14.49\n",
            "\n",
            "Resultados dos Modelos (conjunto de treino):\n",
            "              Modelo    R²     RMSE      MAE  MAPE (%)\n",
            "0  Linear Regression  0.58  8050.05  4011.62     28.86\n",
            "1      Decision Tree  0.75  6171.27  2978.59     36.48\n",
            "2      Random Forest  0.87  4413.00  2249.35     22.44\n",
            "3                KNN  0.74  6326.59  3453.60     28.24\n",
            "4            XGBoost  0.88  4310.42  1958.12     15.56\n"
          ]
        }
      ],
      "source": []
    },
    {
      "cell_type": "markdown",
      "source": [
        "*texto em itálico*# Nova seção"
      ],
      "metadata": {
        "id": "FzBEQuILQ608"
      }
    }
  ]
}